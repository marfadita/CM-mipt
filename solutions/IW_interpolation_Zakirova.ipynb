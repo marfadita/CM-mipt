{
  "cells": [
    {
      "cell_type": "code",
      "execution_count": 69,
      "id": "12df9c7c",
      "metadata": {
        "id": "12df9c7c"
      },
      "outputs": [],
      "source": [
        "import numpy as np\n",
        "import math  "
      ]
    },
    {
      "attachments": {},
      "cell_type": "markdown",
      "id": "bff99a98",
      "metadata": {},
      "source": [
        "Решение Закировой Марфы, Б06-906а\n",
        "# <center> Задача\n",
        "Oпределить значение $f(0.95)$ :\n",
        "1. с помощью интерполяции полиномами\n",
        "2. с помоцью интерполяции сплайнами\n",
        "\n",
        "\\begin{array}{|c|c|c|c|c|c|c|c|c|c|c|c|}\n",
        "\\hline f(x) & 0,000 & 0,033 & 0,067 & 0,100 & 0,133 & 0,166 & 0,199 & 0,231 & 0,264 & 0,296 & 0,327 \\\\\n",
        "\\hline x & 0 & 0,1 & 0,2 & 0,3 & 0,4 & 0,5 & 0,6 & 0,7 & 0,8 & 0,9 & 1 \\\\\n",
        "\\hline\n",
        "\\end{array}\n",
        "\n",
        "Оценить ошибку, используя то, что $\\left|f^{(x)}(x)\\right|<10^ 6 \\text { и }\\left|f^{IV}(x)\\right|<0.1$  на отрезке интерполяции\n"
      ]
    },
    {
      "cell_type": "markdown",
      "id": "a0f44d80",
      "metadata": {
        "id": "a0f44d80"
      },
      "source": [
        "__Интерполяция полиномами__\n"
      ]
    },
    {
      "cell_type": "code",
      "execution_count": 108,
      "id": "ae4cc140",
      "metadata": {
        "colab": {
          "base_uri": "https://localhost:8080/"
        },
        "id": "ae4cc140",
        "outputId": "cd893e4d-7f46-4f2e-ff0d-a70e524dc9c6"
      },
      "outputs": [
        {
          "name": "stdout",
          "output_type": "stream",
          "text": [
            "число узлов(N+1): 11\n"
          ]
        }
      ],
      "source": [
        "x = np.linspace(0,1, 11)\n",
        "f = np.array([0, 0.033, 0.067, 0.1, 0.133, 0.166, 0.199, 0.231, 0.264, 0.296, 0.327])\n",
        "z = 0.95\n",
        "\n",
        "N = x.shape[0] - 1\n",
        "print(f'число узлов(N+1): {N+1}')"
      ]
    },
    {
      "cell_type": "markdown",
      "id": "e66e6fe0",
      "metadata": {
        "id": "e66e6fe0"
      },
      "source": [
        "Интерполяционным полиномом в форме Чебышева не получается, исследуемые значения функции монотонно возрастают, полученное значение меньше ближайшего следующего значения f(x_k)\n",
        "\n",
        "\n",
        "Я поняла в чем ошибка, я использовала реккурентную формулу не для вывода конкретного полинома Чебышева, а для подсчета его значения в конкретных точках."
      ]
    },
    {
      "cell_type": "code",
      "execution_count": 50,
      "id": "c51e596f",
      "metadata": {
        "colab": {
          "base_uri": "https://localhost:8080/"
        },
        "id": "c51e596f",
        "outputId": "5aaacad0-7dd5-4d95-c6fe-dd52c6d1327c"
      },
      "outputs": [
        {
          "name": "stdout",
          "output_type": "stream",
          "text": [
            "0.1360102051668148\n"
          ]
        }
      ],
      "source": [
        "N = x.shape[0] - 1\n",
        "a = []\n",
        "f_095 = 0\n",
        "\n",
        "#T = np.array([np.cos(j*np.arccos(x)) for j in range(N + 1)]) проблемы с арккосинусом, поэтому не работает так\n",
        "T = {0: [[] for _ in range(N+1)], z :[1]}\n",
        "T[0][0] = [1]*(N+1)\n",
        "\n",
        "T[0][1] = x\n",
        "T[z].append(z)\n",
        "\n",
        "\n",
        "for i in range(2, N+1):\n",
        "    T[0][i] = 2* T[0][i - 1] * x - T[0][i - 2]\n",
        "    T[z].append(2* T[z][i - 1] * z - T[z][i - 2])\n",
        "    \n",
        "T[0][0] = [1/np.sqrt(2) for _ in range(N+1)]\n",
        "T[z][0] = (1/np.sqrt(2))\n",
        "\n",
        "for j in range(N+1):\n",
        "    a.append((2/(N + 1))*np.sum(f * T[0][j]))\n",
        "    f_095 += a[j] * T[z][j]\n",
        "\n",
        "print(f_095)\n",
        "\n",
        "    \n",
        "    "
      ]
    },
    {
      "cell_type": "markdown",
      "id": "eccc8c76",
      "metadata": {
        "id": "eccc8c76"
      },
      "source": [
        "Через полином Лагранжа получилось:"
      ]
    },
    {
      "cell_type": "code",
      "execution_count": 68,
      "id": "087101e5",
      "metadata": {
        "colab": {
          "base_uri": "https://localhost:8080/"
        },
        "id": "087101e5",
        "outputId": "cdb5925d-328c-4575-c206-ecf23794e96a"
      },
      "outputs": [
        {
          "name": "stdout",
          "output_type": "stream",
          "text": [
            "f(0.95): 0.309\n"
          ]
        }
      ],
      "source": [
        "fi = [1]*(N + 1)\n",
        "for i in range(N + 1):\n",
        "    for j in range(N + 1): \n",
        "        if i != j:\n",
        "            fi[i] *= (z-x[j])/(x[i]-x[j])\n",
        "fi = np.array(fi)\n",
        "res = np.sum(fi*f)\n",
        "print(f'f({z}): {np.round(res,3)}')\n"
      ]
    },
    {
      "cell_type": "markdown",
      "id": "H48srf6NLtxR",
      "metadata": {
        "id": "H48srf6NLtxR"
      },
      "source": [
        "$$\\Delta  = \\Delta_{\\text{метода}} + \\Delta_{\\text{вычисл}}$$"
      ]
    },
    {
      "cell_type": "code",
      "execution_count": 116,
      "id": "YYDKqxDALdX2",
      "metadata": {
        "colab": {
          "base_uri": "https://localhost:8080/"
        },
        "id": "YYDKqxDALdX2",
        "outputId": "24296392-faeb-4539-bccf-c5a2751b9a9c"
      },
      "outputs": [
        {
          "name": "stdout",
          "output_type": "stream",
          "text": [
            "delta_метода 9.090909090909097e-07\n",
            "delta: 0.033\n"
          ]
        }
      ],
      "source": [
        "delta_metod = (10**6) * (h**(N+1))/(N + 1)\n",
        "delta_v = (2**(N+1)) * 0.001/(np.e * N * np.log(N))\n",
        "print(f'delta_метода {delta_metod}')\n",
        "print(f'delta: {np.round(delta_metod + delta_v, 3)}')"
      ]
    },
    {
      "cell_type": "markdown",
      "id": "5e647110",
      "metadata": {
        "id": "5e647110"
      },
      "source": [
        "__Интерполяция сплайнами__"
      ]
    },
    {
      "cell_type": "code",
      "execution_count": 100,
      "id": "tEnkVVGqY5dM",
      "metadata": {
        "id": "tEnkVVGqY5dM"
      },
      "outputs": [],
      "source": [
        "h = 0.1\n",
        "A = [[0]*(N-1) for _ in range(N-1)]\n",
        "\n",
        "u_2 = [(f[i + 1] - f[i]) / h for i in range(N)]\n",
        "u_3 = [6*(u_2[i + 1] - u_2[i])/ (2*h) for i in range(N-1)]\n",
        "\n",
        "for i in range(N-1):\n",
        "  for j in range(N-1):\n",
        "    if i == j:\n",
        "      A[i][j] = 2\n",
        "      if j + 1 < (N-1):\n",
        "        A[i][j + 1] = 1/2\n",
        "      if i + 1 < (N-1):\n",
        "        A[i + 1][j] = 1/2\n",
        "\n",
        "c = np.linalg.solve(A, u_3)\n",
        "c = np.append(c,0)\n",
        "\n",
        "a = f[1:]\n",
        "\n",
        "d = np.array([c[0]/h])\n",
        "for i in range(1,N):\n",
        "  d = np.append(d, (c[i] - c[i-1])/h)\n",
        "  \n",
        "b = np.array([u_2[0] + c[0]*h/3])\n",
        "for i in range(1,N):\n",
        "  b = np.append(b, ((c[i-1] + 2*c[i])*h/6)+ u_2[i])\n"
      ]
    },
    {
      "cell_type": "code",
      "execution_count": 107,
      "id": "QsLyyCdn_vfO",
      "metadata": {
        "colab": {
          "base_uri": "https://localhost:8080/"
        },
        "id": "QsLyyCdn_vfO",
        "outputId": "c1c19cb9-ae2f-4590-82fb-3dd117a6518d"
      },
      "outputs": [
        {
          "name": "stdout",
          "output_type": "stream",
          "text": [
            "f(0.95): 0.312\n"
          ]
        }
      ],
      "source": [
        "f_z = a[-1] + b[-1]*(z-x[-1]) + (c[-1] * (z - x[-1])**2)/2 + (d[-1] * (z - x[-1])**3)/6\n",
        "print(f'f({z}): {np.round(f_z,3)}')\n"
      ]
    },
    {
      "cell_type": "code",
      "execution_count": 115,
      "id": "zpMpzUOvjuG0",
      "metadata": {
        "colab": {
          "base_uri": "https://localhost:8080/"
        },
        "id": "zpMpzUOvjuG0",
        "outputId": "0b7da442-7a3d-4a16-c8b3-f18e58563b0e"
      },
      "outputs": [
        {
          "name": "stdout",
          "output_type": "stream",
          "text": [
            "delta_вычисл 2.6041666666666673e-08\n",
            "delta: 0.033\n"
          ]
        }
      ],
      "source": [
        "delta_metod_sp = (0.1 * (h/2)**4)/24\n",
        "delta_v_sp = (2**(N+1)) * 0.001/(np.e * N * np.log(N))\n",
        "print(f'delta_метода {delta_metod_sp}')\n",
        "print(f'delta: {np.round(delta_metod_sp + delta_v_sp, 3)}')"
      ]
    },
    {
      "cell_type": "markdown",
      "id": "t96v2-gwlq_P",
      "metadata": {
        "id": "t96v2-gwlq_P"
      },
      "source": [
        "Таким образом, в пределах погрешности интерполяционные значения функции совпадают. В обоих методах основной вклад в ошибку вносит вычислительная погрешность, при этом погрешность метода сплайнами меньше."
      ]
    }
  ],
  "metadata": {
    "colab": {
      "collapsed_sections": [],
      "provenance": []
    },
    "kernelspec": {
      "display_name": "Python 3 (ipykernel)",
      "language": "python",
      "name": "python3"
    },
    "language_info": {
      "codemirror_mode": {
        "name": "ipython",
        "version": 3
      },
      "file_extension": ".py",
      "mimetype": "text/x-python",
      "name": "python",
      "nbconvert_exporter": "python",
      "pygments_lexer": "ipython3",
      "version": "3.9.12"
    }
  },
  "nbformat": 4,
  "nbformat_minor": 5
}

{
 "cells": [
  {
   "cell_type": "code",
   "execution_count": 3,
   "metadata": {},
   "outputs": [],
   "source": [
    "from sympy import symbols, Eq, I\n",
    "import sympy as sp\n",
    "import numpy as np\n",
    "from sympy.plotting import plot_implicit"
   ]
  },
  {
   "cell_type": "code",
   "execution_count": 4,
   "metadata": {},
   "outputs": [
    {
     "data": {
      "text/latex": [
       "$\\displaystyle 0.166666666666667 z^{3} + 0.5 z^{2} + 1.0 z + 1$"
      ],
      "text/plain": [
       "0.166666666666667*z**3 + 0.5*z**2 + 1.0*z + 1"
      ]
     },
     "execution_count": 4,
     "metadata": {},
     "output_type": "execute_result"
    }
   ],
   "source": [
    "A=np.array([[0,0,0],[2/3,0,0],[-1/3,1,0]])\n",
    "b = np.array([1/4, 1/2, 1/4])\n",
    "\n",
    "\n",
    "z =sp.symbols('z')\n",
    "ze = np.array([z]*len(b))\n",
    "zeb = np.ones(A.shape) *b*z\n",
    "zA = sp.Matrix(A * ze)\n",
    "E = sp.eye(len(A))\n",
    "\n",
    "znam = (E-zA).det()\n",
    "chisl = (E-zA + zeb).det()\n",
    "\n",
    "expr = chisl/znam\n",
    "expr"
   ]
  },
  {
   "cell_type": "code",
   "execution_count": null,
   "metadata": {},
   "outputs": [],
   "source": []
  }
 ],
 "metadata": {
  "kernelspec": {
   "display_name": "Python 3.10.4 ('user_environment')",
   "language": "python",
   "name": "python3"
  },
  "language_info": {
   "codemirror_mode": {
    "name": "ipython",
    "version": 3
   },
   "file_extension": ".py",
   "mimetype": "text/x-python",
   "name": "python",
   "nbconvert_exporter": "python",
   "pygments_lexer": "ipython3",
   "version": "3.10.4"
  },
  "orig_nbformat": 4,
  "vscode": {
   "interpreter": {
    "hash": "4895fdd6ded4cce01d5208d5f19962f03e0c4f0b3a6ccbeda9fb63d83b36d2ee"
   }
  }
 },
 "nbformat": 4,
 "nbformat_minor": 2
}

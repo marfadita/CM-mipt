{
 "cells": [
  {
   "cell_type": "code",
   "execution_count": 14,
   "id": "4b26fd37",
   "metadata": {},
   "outputs": [],
   "source": [
    "import numpy as np"
   ]
  },
  {
   "cell_type": "code",
   "execution_count": 15,
   "id": "0f85168c",
   "metadata": {},
   "outputs": [],
   "source": [
    "def div_diff(x, f):\n",
    "    \"\"\"Первая строка полученной матрицы - разности Ньютона увеличивающегося порядка\"\"\"\n",
    "    n = len(x);\n",
    "    F = np.empty((n, n))\n",
    "    F[:, 0] = f\n",
    "    for k in range(1, n):\n",
    "        F[0:n-k, k] = (F[1:n-k+1, k-1] - F[0:n-k, k-1]) / (x[k:] - x[:-k])\n",
    "    return F"
   ]
  },
  {
   "cell_type": "code",
   "execution_count": 16,
   "id": "05354067",
   "metadata": {},
   "outputs": [
    {
     "name": "stdout",
     "output_type": "stream",
     "text": [
      "число узлов(N+1): 4\n",
      "[-1.          1.18906064  0.          8.49713765]\n",
      "методом Ньютона f(0): -0.8961835727333172\n"
     ]
    }
   ],
   "source": [
    "f = np.array([-1,0,1,2])\n",
    "x = np.array([-1.041, -0.200, 0.641, 0.709])\n",
    "N = x.shape[0] - 1\n",
    "print(f'число узлов(N+1): {N+1}')\n",
    "z = 0\n",
    "coef = div_diff(x, f)[0,:] \n",
    "print(coef)\n",
    "\n",
    "x_diff = [z-key for key in x]\n",
    "x_diff.insert(0,1)\n",
    "\n",
    "res = 0\n",
    "for i, value in enumerate(coef):\n",
    "    res += value * np.cumprod(x_diff)[i]\n",
    "\n",
    "print(f'методом Ньютона f({z}): {(res)}')"
   ]
  },
  {
   "cell_type": "code",
   "execution_count": 18,
   "id": "152d00d0",
   "metadata": {},
   "outputs": [
    {
     "name": "stdout",
     "output_type": "stream",
     "text": [
      "[ 0.79903811 -0.5        -1.79903811]\n",
      "методом Лагранжа f(-1): 0.20801947628747608\n"
     ]
    }
   ],
   "source": [
    "z = -1\n",
    "x = np.array([(-1/2) + (3/2)*np.cos((2*m+1)*np.pi/6) for m in range(3)])\n",
    "print(x)\n",
    "f = np.array([-0.624, 0.119, 0.123])\n",
    "N = x.shape[0] - 1\n",
    "fi = [1]*(N + 1)\n",
    "for i in range(N + 1):\n",
    "    for j in range(N + 1): \n",
    "        if i != j:\n",
    "            fi[i] *= (z-x[j])/(x[i]-x[j])\n",
    "fi = np.array(fi)\n",
    "res = np.sum(fi*f)\n",
    "print(f'методом Лагранжа f({z}): {res}')\n"
   ]
  },
  {
   "cell_type": "code",
   "execution_count": null,
   "id": "a10f41cc",
   "metadata": {},
   "outputs": [],
   "source": []
  },
  {
   "cell_type": "code",
   "execution_count": null,
   "id": "f5196d2a",
   "metadata": {},
   "outputs": [],
   "source": []
  }
 ],
 "metadata": {
  "kernelspec": {
   "display_name": "Python 3 (ipykernel)",
   "language": "python",
   "name": "python3"
  },
  "language_info": {
   "codemirror_mode": {
    "name": "ipython",
    "version": 3
   },
   "file_extension": ".py",
   "mimetype": "text/x-python",
   "name": "python",
   "nbconvert_exporter": "python",
   "pygments_lexer": "ipython3",
   "version": "3.9.12"
  }
 },
 "nbformat": 4,
 "nbformat_minor": 5
}
